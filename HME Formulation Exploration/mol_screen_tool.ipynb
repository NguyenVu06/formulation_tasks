{
 "cells": [
  {
   "cell_type": "code",
   "execution_count": 1,
   "metadata": {},
   "outputs": [],
   "source": [
    "# Import Necessary Modules (some may not be immediately necessary )\n",
    "import os\n",
    "import numpy as np\n",
    "import pandas as pd\n",
    "import matplotlib.pyplot as plt\n",
    "import seaborn as sns\n",
    "import requests\n",
    "import json\n",
    "import itertools\n",
    "import re\n",
    "from pubchemprops.pubchemprops import get_second_layer_props, get_cid_by_name\n",
    "import pubchempy as pcp\n",
    "import time\n",
    "\n",
    "# Suppress dumb warnings\n",
    "pd.options.mode.chained_assignment = None  # default='warn'"
   ]
  },
  {
   "cell_type": "markdown",
   "metadata": {},
   "source": [
    "# Data Query from OpenFDA"
   ]
  },
  {
   "cell_type": "code",
   "execution_count": null,
   "metadata": {},
   "outputs": [],
   "source": [
    "#get Data from NDC DB\n",
    "\n",
    "\n",
    "#define function to obtain chemical name, dosage form and melting point\n",
    "def getAPI(API_name, n_lim = 1000, skip = 0):\n",
    "    #Enpoint to search for API from label\n",
    "    df_list = []\n",
    "    url_root = \"https://api.fda.gov/drug/ndc.json?\"\n",
    "    APIkey = \"api_key=ieSIcZGsM6K0XVG6kL7UiQb4Yw3cDN1z2bwO4XPl\"\n",
    "    while True:\n",
    "        query = \"{}{}&search=active_ingredients.name:{}&limit={}&skip={}\".format(url_root, APIkey, API_name, n_lim, skip)\n",
    "        try:\n",
    "            json_result = requests.get(query).json()['results']\n",
    "            json_dict = {'product_ndc':[i['product_ndc'] for i in json_result],\n",
    "                        'API':[i['active_ingredients'][0]['name'] for i in json_result],\n",
    "                        'searched_API':[API_name for i in json_result],\n",
    "                        'Dosage_strength':[i['active_ingredients'][0]['strength'] for i in json_result],\n",
    "                        'Dosage_form':[i['dosage_form'] for i in json_result]}\n",
    "            \n",
    "            df_list.append(pd.DataFrame(json_dict))\n",
    "            skip += n_lim\n",
    "            \n",
    "        except:\n",
    "            break\n",
    "    if len(df_list)>0:\n",
    "        return pd.concat(df_list, axis=0, ignore_index=True)\n",
    "    else:\n",
    "        return pd.DataFrame.from_dict({'product_ndc': ['Not_found'],\n",
    "                        'API':['Not_found'],\n",
    "                        'searched_API':[API_name],\n",
    "                        'Dosage_strength':['Not_found'],\n",
    "                        'Dosage_form':['Not_found']},orient='columns')"
   ]
  },
  {
   "cell_type": "code",
   "execution_count": null,
   "metadata": {},
   "outputs": [],
   "source": [
    "ess_drugs = pd.read_csv(r\"C:\\Users\\nvu\\Desktop\\Data_Projects\\Drug_Prices\\API_list_600.csv\", header=None)\n",
    "api_list = \",\".join(list(ess_drugs.iloc[:,0].values)).lower().strip().split(',')\n",
    "\n",
    "fda_queried = []\n",
    "\n",
    "for api_name in api_list:\n",
    "    x_api = getAPI(api_name)\n",
    "    time.sleep(0.35) #wait for API to send back request\n",
    "    fda_queried.append(x_api)\n",
    "    "
   ]
  },
  {
   "cell_type": "code",
   "execution_count": null,
   "metadata": {},
   "outputs": [],
   "source": [
    "len(fda_queried)"
   ]
  },
  {
   "cell_type": "code",
   "execution_count": null,
   "metadata": {},
   "outputs": [],
   "source": [
    "fda_queried_df = pd.concat(fda_queried, axis=0, ignore_index=True)"
   ]
  },
  {
   "cell_type": "code",
   "execution_count": null,
   "metadata": {},
   "outputs": [],
   "source": [
    "fda_queried_df.head(2)"
   ]
  },
  {
   "cell_type": "code",
   "execution_count": null,
   "metadata": {},
   "outputs": [],
   "source": [
    "notfound_df = fda_queried_df[fda_queried_df[\"API\"]==\"Not_found\"]\n",
    "\n",
    "notfound_df[\"searched_API\"].value_counts()"
   ]
  },
  {
   "cell_type": "code",
   "execution_count": null,
   "metadata": {},
   "outputs": [],
   "source": [
    "fda_queried_df.to_csv(\"NDC_Drug_FDA_raw.csv\")"
   ]
  },
  {
   "cell_type": "markdown",
   "metadata": {},
   "source": [
    "# Load saved queried Data and perform Data cleaning"
   ]
  },
  {
   "cell_type": "code",
   "execution_count": null,
   "metadata": {},
   "outputs": [],
   "source": [
    "fda_queried_df = pd.read_csv(\"NDC_Drug_FDA_raw.csv\")"
   ]
  },
  {
   "cell_type": "code",
   "execution_count": null,
   "metadata": {},
   "outputs": [],
   "source": [
    "dosage_forms_type = json.loads(fda_queried_df.Dosage_form.value_counts().to_json())"
   ]
  },
  {
   "cell_type": "code",
   "execution_count": null,
   "metadata": {},
   "outputs": [],
   "source": [
    "def get_concentration(string_info_in, para_out = \"All\"):\n",
    "    conc_pattern = r'(\\S+)\\s(\\S+)[/](\\S+)'\n",
    "    \n",
    "    reg_result = re.findall(conc_pattern, string_info_in, re.IGNORECASE)\n",
    "    \n",
    "    if len(reg_result)==0:\n",
    "        return (None, None, None)\n",
    "    else:\n",
    "        if para_out==\"All\":\n",
    "            return reg_result[0]\n",
    "        elif para_out==\"Strength_number\":\n",
    "            return reg_result[0][0]\n",
    "        elif para_out==\"Strength_unit\":\n",
    "            return reg_result[0][1]\n",
    "        elif para_out==\"per_unit\":\n",
    "            return reg_result[0][-1]\n"
   ]
  },
  {
   "cell_type": "code",
   "execution_count": null,
   "metadata": {},
   "outputs": [],
   "source": [
    "fda_queried_df_clean = fda_queried_df.loc[fda_queried_df[\"API\"]!=\"Not_found\", :]\n",
    "\n",
    "fda_queried_df_clean[\"strength_num\"] = fda_queried_df_clean.apply(lambda x: get_concentration(x[\"Dosage_strength\"], para_out=\"Strength_number\"), axis=1)"
   ]
  },
  {
   "cell_type": "code",
   "execution_count": null,
   "metadata": {},
   "outputs": [],
   "source": [
    "fda_queried_df_clean[\"Strength_unit\"] = fda_queried_df_clean.apply(lambda x: get_concentration(x[\"Dosage_strength\"], para_out=\"Strength_unit\"), axis=1)\n",
    "\n",
    "fda_queried_df_clean[\"per_unit\"] = fda_queried_df_clean.apply(lambda x: get_concentration(x[\"Dosage_strength\"], para_out=\"per_unit\"), axis=1)"
   ]
  },
  {
   "cell_type": "code",
   "execution_count": null,
   "metadata": {},
   "outputs": [],
   "source": [
    "def check_unit(unit_in):\n",
    "    if unit_in in {'mg', 'kg', 'g','ug'}:\n",
    "        return True\n",
    "    else: \n",
    "        return False\n",
    "    \n",
    "def conversion_to_mg(number, unit, func=check_unit):\n",
    "    conversion_table = {\n",
    "        'mg': 1,\n",
    "        'kg': 1000*1000,\n",
    "        'g': 1000,\n",
    "        'ug': 1/1000,\n",
    "    }\n",
    "    if func(unit) is True:\n",
    "        return float(number)*conversion_table[unit]\n",
    "    else:\n",
    "        try:\n",
    "            return float(unit)\n",
    "        except:\n",
    "            return 0"
   ]
  },
  {
   "cell_type": "code",
   "execution_count": null,
   "metadata": {},
   "outputs": [],
   "source": [
    "def parse_unit(unit_in, para = \"num\"):\n",
    "    def isfloat(value):\n",
    "        try:\n",
    "            float(value)\n",
    "            return True\n",
    "        except ValueError:\n",
    "            return False\n",
    "    \n",
    "    patrn = r'([0-9.]+)?([A-Za-z%]+)$'\n",
    "    \n",
    "    if isfloat(unit_in):\n",
    "        return float(unit_in)\n",
    "    else:\n",
    "        reggex_result = re.findall(patrn, unit_in, re.IGNORECASE)\n",
    "    \n",
    "    if para==\"num\":\n",
    "        try:\n",
    "            if reggex_result[0][0] == '':\n",
    "                return 1.0\n",
    "            else:\n",
    "                return float(reggex_result[0][0])\n",
    "        except:\n",
    "            return 0.0\n",
    "    elif para==\"unit\":\n",
    "        try:\n",
    "            return reggex_result[0][1]\n",
    "        except:\n",
    "            return ''\n",
    "    "
   ]
  },
  {
   "cell_type": "code",
   "execution_count": null,
   "metadata": {},
   "outputs": [],
   "source": [
    "fda_queried_df_clean[\"unit_num\"] = fda_queried_df_clean.apply(lambda x: parse_unit(x[\"per_unit\"]), axis=1)\n",
    "\n",
    "fda_queried_df_clean[\"unit_str\"] = fda_queried_df_clean.apply(lambda x: parse_unit(x[\"per_unit\"], para='unit'), axis=1)"
   ]
  },
  {
   "cell_type": "code",
   "execution_count": null,
   "metadata": {},
   "outputs": [],
   "source": [
    "fda_queried_df_clean.head()"
   ]
  },
  {
   "cell_type": "code",
   "execution_count": null,
   "metadata": {},
   "outputs": [],
   "source": [
    "fda_queried_df_clean[\"valid_row\"] = fda_queried_df_clean.apply(lambda x: check_unit(x['Strength_unit']), axis=1)\n",
    "\n",
    "fda_queried_df_clean = fda_queried_df_clean.loc[fda_queried_df_clean[\"valid_row\"]==True, :]"
   ]
  },
  {
   "cell_type": "code",
   "execution_count": null,
   "metadata": {},
   "outputs": [],
   "source": [
    "fda_queried_df_clean.unit_str.value_counts()"
   ]
  },
  {
   "cell_type": "code",
   "execution_count": null,
   "metadata": {},
   "outputs": [],
   "source": [
    "fda_queried_df_clean.head(3)"
   ]
  },
  {
   "cell_type": "code",
   "execution_count": null,
   "metadata": {},
   "outputs": [],
   "source": [
    "fda_queried_df_clean[\"strength_in_mg\"] = fda_queried_df_clean.apply(lambda x: conversion_to_mg(number=x['strength_num'], unit=x['Strength_unit']), axis=1)\n",
    "\n",
    "fda_queried_df_clean[\"unit_in_mg\"] = fda_queried_df_clean.apply(lambda x: conversion_to_mg(number=x['unit_num'], unit=x['unit_str']), axis=1)\n",
    "\n",
    "fda_queried_df_clean_unit = fda_queried_df_clean.loc[fda_queried_df_clean['unit_in_mg']>0, :]\n",
    "\n",
    "fda_queried_df_clean_unit['strength_in_mg_per_1unit'] = fda_queried_df_clean_unit['strength_in_mg']/fda_queried_df_clean_unit['unit_in_mg']"
   ]
  },
  {
   "cell_type": "code",
   "execution_count": null,
   "metadata": {},
   "outputs": [],
   "source": [
    "fda_queried_df_clean_unit[fda_queried_df_clean_unit.unit_str == 1].head()"
   ]
  },
  {
   "cell_type": "code",
   "execution_count": null,
   "metadata": {},
   "outputs": [],
   "source": [
    "fda_queried_df_clean_unit.unit_str.value_counts()"
   ]
  },
  {
   "cell_type": "code",
   "execution_count": null,
   "metadata": {},
   "outputs": [],
   "source": [
    "fda_queried_df_clean_unit = fda_queried_df_clean_unit.drop(axis=1, columns=['Unnamed: 0', 'unit_num', 'unit_str', 'valid_row'])"
   ]
  },
  {
   "cell_type": "markdown",
   "metadata": {},
   "source": [
    "### Save clean-up table of all APIs\n"
   ]
  },
  {
   "cell_type": "code",
   "execution_count": null,
   "metadata": {},
   "outputs": [],
   "source": [
    "fda_queried_df_clean_unit.to_csv(\"fda_queried_df_cleaned.csv\")"
   ]
  },
  {
   "cell_type": "code",
   "execution_count": null,
   "metadata": {},
   "outputs": [],
   "source": [
    "fda_queried_df_clean_unit.head(2)"
   ]
  },
  {
   "cell_type": "markdown",
   "metadata": {},
   "source": [
    "# Read in cleaned Data Set to get PubChem Data"
   ]
  },
  {
   "cell_type": "code",
   "execution_count": 2,
   "metadata": {},
   "outputs": [],
   "source": [
    "fda_queried_df_clean_unit = pd.read_csv('fda_queried_df_cleaned.csv')"
   ]
  },
  {
   "cell_type": "code",
   "execution_count": 3,
   "metadata": {},
   "outputs": [],
   "source": [
    "fda_queried_df_clean_unit.head(3)\n",
    "\n",
    "def is_tablet(dosage_form_str):\n",
    "    \n",
    "    if 'TABLET' in dosage_form_str.upper():\n",
    "        return True\n",
    "    else:\n",
    "        return False\n",
    "\n",
    "fda_queried_df_clean_unit['is_tablet'] = fda_queried_df_clean_unit['Dosage_form'].apply(lambda x: is_tablet(x))\n",
    "\n",
    "fda_queried_df_clean_unit = fda_queried_df_clean_unit.loc[fda_queried_df_clean_unit['is_tablet'] == True, :]"
   ]
  },
  {
   "cell_type": "code",
   "execution_count": 41,
   "metadata": {},
   "outputs": [],
   "source": [
    "fda_queried_df_clean_unit.to_csv(\"fda_tablet_Only_data.csv\")"
   ]
  },
  {
   "cell_type": "markdown",
   "metadata": {},
   "source": [
    "## Look for chemical info from Pubchem"
   ]
  },
  {
   "cell_type": "code",
   "execution_count": 24,
   "metadata": {},
   "outputs": [],
   "source": [
    "def get_pubChem_info(name_in, para_str = 'MP, LogP' ):\n",
    "    \"\"\"\n",
    "    para_str: \"MP, LogP\"\n",
    "    \"\"\"\n",
    "    \n",
    "    params_dict = dict(zip(['MP', 'LOGP'], ['Melting Point','LogP']))\n",
    "    \n",
    "    \n",
    "    params_list = [params_dict[i.strip().upper()] for i in para_str.split(',')]\n",
    "    \n",
    "    def get_attributes(name, params):\n",
    "        second_layer = get_second_layer_props(name, params)\n",
    "        dict_out = dict(zip([i for i in params], [second_layer[i][0]['Value'] for i in params]))\n",
    "        # dict_out[\"Mol_name\"] = name\n",
    "        return list(dict_out.values())\n",
    "\n",
    "    try:\n",
    "        return(get_attributes(name_in, params_list))\n",
    "            \n",
    "    except:\n",
    "        try:\n",
    "            synonyms_ls = pcp.get_synonyms(name_in, 'name')[0][\"Synonym\"]\n",
    "            for s in synonyms_ls[:5]:\n",
    "                try:\n",
    "                    return(get_attributes(s, params_list))\n",
    "                except:\n",
    "                    if s == synonyms_ls[4]:\n",
    "                        break\n",
    "                    else:\n",
    "                        print(s)\n",
    "                        continue\n",
    "            return [np.nan, np.nan]\n",
    "        except:\n",
    "            return [np.nan, np.nan]\n",
    "\n",
    "            "
   ]
  },
  {
   "cell_type": "code",
   "execution_count": 33,
   "metadata": {},
   "outputs": [],
   "source": [
    "mol_names = np.array(list(set(fda_queried_df_clean_unit['searched_API'].values)))\n",
    "\n",
    "finalData_df = pd.DataFrame({'Molecule':mol_names})\n"
   ]
  },
  {
   "cell_type": "code",
   "execution_count": 35,
   "metadata": {},
   "outputs": [
    {
     "data": {
      "text/plain": [
       "(468, 1)"
      ]
     },
     "execution_count": 35,
     "metadata": {},
     "output_type": "execute_result"
    }
   ],
   "source": [
    "finalData_df.shape"
   ]
  },
  {
   "cell_type": "code",
   "execution_count": null,
   "metadata": {},
   "outputs": [],
   "source": [
    "finalData_df[\"pubChem\"] = finalData_df.apply(lambda x: get_pubChem_info(x['Molecule']), axis=1)\n",
    "\n",
    "# x_mols_test = mol_names[:5]\n",
    "# x_test = pd.DataFrame({'Molecule':x_mols_test})\n",
    "# x_test[\"pubchem\"] = x_test.apply(lambda x: get_pubChem_info(x['Molecule']), axis=1)"
   ]
  },
  {
   "cell_type": "code",
   "execution_count": 37,
   "metadata": {},
   "outputs": [
    {
     "data": {
      "text/html": [
       "<div>\n",
       "<style scoped>\n",
       "    .dataframe tbody tr th:only-of-type {\n",
       "        vertical-align: middle;\n",
       "    }\n",
       "\n",
       "    .dataframe tbody tr th {\n",
       "        vertical-align: top;\n",
       "    }\n",
       "\n",
       "    .dataframe thead th {\n",
       "        text-align: right;\n",
       "    }\n",
       "</style>\n",
       "<table border=\"1\" class=\"dataframe\">\n",
       "  <thead>\n",
       "    <tr style=\"text-align: right;\">\n",
       "      <th></th>\n",
       "      <th>Molecule</th>\n",
       "      <th>pubChem</th>\n",
       "    </tr>\n",
       "  </thead>\n",
       "  <tbody>\n",
       "    <tr>\n",
       "      <th>0</th>\n",
       "      <td>acetaminophen</td>\n",
       "      <td>[{'StringWithMarkup': [{'String': '336 to 342 ...</td>\n",
       "    </tr>\n",
       "    <tr>\n",
       "      <th>1</th>\n",
       "      <td>methamphetamine</td>\n",
       "      <td>[nan, nan]</td>\n",
       "    </tr>\n",
       "    <tr>\n",
       "      <th>2</th>\n",
       "      <td>acyclovir</td>\n",
       "      <td>[{'Number': [255], 'Unit': '°C'}, {'Number': [...</td>\n",
       "    </tr>\n",
       "    <tr>\n",
       "      <th>3</th>\n",
       "      <td>vilazodone</td>\n",
       "      <td>[{'StringWithMarkup': [{'String': 'MP: 227-279...</td>\n",
       "    </tr>\n",
       "  </tbody>\n",
       "</table>\n",
       "</div>"
      ],
      "text/plain": [
       "          Molecule                                            pubChem\n",
       "0    acetaminophen  [{'StringWithMarkup': [{'String': '336 to 342 ...\n",
       "1  methamphetamine                                         [nan, nan]\n",
       "2        acyclovir  [{'Number': [255], 'Unit': '°C'}, {'Number': [...\n",
       "3       vilazodone  [{'StringWithMarkup': [{'String': 'MP: 227-279..."
      ]
     },
     "execution_count": 37,
     "metadata": {},
     "output_type": "execute_result"
    }
   ],
   "source": [
    "finalData_df.head(4)"
   ]
  },
  {
   "cell_type": "code",
   "execution_count": 38,
   "metadata": {},
   "outputs": [],
   "source": [
    "finalData_df['MP'] = finalData_df['pubChem'].apply(lambda x: x[0])\n",
    "finalData_df['LogP'] = finalData_df['pubChem'].apply(lambda x: x[1])"
   ]
  },
  {
   "cell_type": "code",
   "execution_count": null,
   "metadata": {},
   "outputs": [],
   "source": []
  },
  {
   "cell_type": "code",
   "execution_count": 39,
   "metadata": {},
   "outputs": [
    {
     "data": {
      "text/html": [
       "<div>\n",
       "<style scoped>\n",
       "    .dataframe tbody tr th:only-of-type {\n",
       "        vertical-align: middle;\n",
       "    }\n",
       "\n",
       "    .dataframe tbody tr th {\n",
       "        vertical-align: top;\n",
       "    }\n",
       "\n",
       "    .dataframe thead th {\n",
       "        text-align: right;\n",
       "    }\n",
       "</style>\n",
       "<table border=\"1\" class=\"dataframe\">\n",
       "  <thead>\n",
       "    <tr style=\"text-align: right;\">\n",
       "      <th></th>\n",
       "      <th>Molecule</th>\n",
       "      <th>pubChem</th>\n",
       "      <th>MP</th>\n",
       "      <th>LogP</th>\n",
       "    </tr>\n",
       "  </thead>\n",
       "  <tbody>\n",
       "    <tr>\n",
       "      <th>0</th>\n",
       "      <td>acetaminophen</td>\n",
       "      <td>[{'StringWithMarkup': [{'String': '336 to 342 ...</td>\n",
       "      <td>{'StringWithMarkup': [{'String': '336 to 342 °...</td>\n",
       "      <td>{'Number': [0.91]}</td>\n",
       "    </tr>\n",
       "    <tr>\n",
       "      <th>1</th>\n",
       "      <td>methamphetamine</td>\n",
       "      <td>[nan, nan]</td>\n",
       "      <td>NaN</td>\n",
       "      <td>NaN</td>\n",
       "    </tr>\n",
       "    <tr>\n",
       "      <th>2</th>\n",
       "      <td>acyclovir</td>\n",
       "      <td>[{'Number': [255], 'Unit': '°C'}, {'Number': [...</td>\n",
       "      <td>{'Number': [255], 'Unit': '°C'}</td>\n",
       "      <td>{'Number': [-1.76]}</td>\n",
       "    </tr>\n",
       "  </tbody>\n",
       "</table>\n",
       "</div>"
      ],
      "text/plain": [
       "          Molecule                                            pubChem  \\\n",
       "0    acetaminophen  [{'StringWithMarkup': [{'String': '336 to 342 ...   \n",
       "1  methamphetamine                                         [nan, nan]   \n",
       "2        acyclovir  [{'Number': [255], 'Unit': '°C'}, {'Number': [...   \n",
       "\n",
       "                                                  MP                 LogP  \n",
       "0  {'StringWithMarkup': [{'String': '336 to 342 °...   {'Number': [0.91]}  \n",
       "1                                                NaN                  NaN  \n",
       "2                    {'Number': [255], 'Unit': '°C'}  {'Number': [-1.76]}  "
      ]
     },
     "execution_count": 39,
     "metadata": {},
     "output_type": "execute_result"
    }
   ],
   "source": [
    "finalData_df.head(3)"
   ]
  },
  {
   "cell_type": "code",
   "execution_count": 40,
   "metadata": {},
   "outputs": [],
   "source": [
    "finalData_df.to_csv(\"pubchem_MP_logP.csv\")"
   ]
  },
  {
   "cell_type": "markdown",
   "metadata": {},
   "source": [
    "# Load in cleaned molecules data and Pubchem Data"
   ]
  },
  {
   "cell_type": "code",
   "execution_count": 42,
   "metadata": {},
   "outputs": [],
   "source": [
    "master_dt = pd.read_csv('fda_tablet_Only_data.csv')\n",
    "pubchem_dt = pd.read_csv('pubchem_MP_logP.csv')"
   ]
  },
  {
   "cell_type": "code",
   "execution_count": 45,
   "metadata": {},
   "outputs": [],
   "source": [
    "master_dt = master_dt.drop(axis=1, columns=master_dt.columns[:2])"
   ]
  },
  {
   "cell_type": "code",
   "execution_count": 46,
   "metadata": {},
   "outputs": [],
   "source": [
    "pubchem_dt = pubchem_dt.drop(axis=1, columns=pubchem_dt.columns[:1])"
   ]
  },
  {
   "cell_type": "code",
   "execution_count": 50,
   "metadata": {},
   "outputs": [
    {
     "data": {
      "text/plain": [
       "Index(['product_ndc', 'API', 'searched_API', 'Dosage_strength', 'Dosage_form',\n",
       "       'strength_num', 'Strength_unit', 'per_unit', 'strength_in_mg',\n",
       "       'unit_in_mg', 'strength_in_mg_per_1unit', 'is_tablet'],\n",
       "      dtype='object')"
      ]
     },
     "execution_count": 50,
     "metadata": {},
     "output_type": "execute_result"
    }
   ],
   "source": [
    "master_dt.columns"
   ]
  },
  {
   "cell_type": "code",
   "execution_count": 95,
   "metadata": {},
   "outputs": [],
   "source": [
    "\n",
    "result = master_dt.set_index('searched_API').join(pubchem_dt.set_index('Molecule'), how='outer',)"
   ]
  },
  {
   "cell_type": "code",
   "execution_count": 117,
   "metadata": {},
   "outputs": [],
   "source": [
    "result_found = result.dropna(axis=0)"
   ]
  },
  {
   "cell_type": "code",
   "execution_count": 119,
   "metadata": {},
   "outputs": [
    {
     "data": {
      "text/plain": [
       "Index(['product_ndc', 'API', 'Dosage_strength', 'Dosage_form', 'strength_num',\n",
       "       'Strength_unit', 'per_unit', 'strength_in_mg', 'unit_in_mg',\n",
       "       'strength_in_mg_per_1unit', 'is_tablet', 'pubChem', 'MP', 'LogP'],\n",
       "      dtype='object')"
      ]
     },
     "execution_count": 119,
     "metadata": {},
     "output_type": "execute_result"
    }
   ],
   "source": [
    "result_found.columns"
   ]
  },
  {
   "cell_type": "code",
   "execution_count": 145,
   "metadata": {},
   "outputs": [],
   "source": [
    "def parse_number(string_in):\n",
    "    \n",
    "    num_pattern = r\"(-?\\d+(\\.\\d+)?)\"\n",
    "    deg_pattern = r\"([°|\\s|'][F|C|K])\"\n",
    "    \n",
    "    num_regex = re.search(num_pattern, string_in, re.IGNORECASE)\n",
    "    unit_regex = re.search(deg_pattern, string_in)\n",
    "    \n",
    "    if num_regex != None:\n",
    "        num = float(num_regex.group(0))\n",
    "    else:\n",
    "        num = np.nan\n",
    "    if unit_regex != None:\n",
    "        uni = unit_regex.group(0)\n",
    "    else:\n",
    "        uni = \"_\"\n",
    "\n",
    "    if 'F' in uni:\n",
    "        cor_num = (num-32)*(5/9)\n",
    "    elif 'K' in uni:\n",
    "        cor_num = num-273.15\n",
    "    else:\n",
    "        cor_num = num\n",
    "    \n",
    "    return (cor_num, uni)\n",
    "        \n",
    "    "
   ]
  },
  {
   "cell_type": "code",
   "execution_count": 149,
   "metadata": {},
   "outputs": [
    {
     "data": {
      "text/plain": [
       "68.85000000000002"
      ]
     },
     "execution_count": 149,
     "metadata": {},
     "output_type": "execute_result"
    }
   ],
   "source": [
    "parse_number(r\"{'StringWithMarkup': [{'String': '342 °K (NTP, 1992)'}]}\")[0]"
   ]
  },
  {
   "cell_type": "code",
   "execution_count": 150,
   "metadata": {},
   "outputs": [],
   "source": [
    "result_found['MP_num_C'] = result_found['MP'].apply(lambda x: parse_number(x)[0])\n",
    "result_found['logP_num'] = result_found['LogP'].apply(lambda x: parse_number(x)[0])"
   ]
  },
  {
   "cell_type": "code",
   "execution_count": 151,
   "metadata": {},
   "outputs": [
    {
     "data": {
      "text/html": [
       "<div>\n",
       "<style scoped>\n",
       "    .dataframe tbody tr th:only-of-type {\n",
       "        vertical-align: middle;\n",
       "    }\n",
       "\n",
       "    .dataframe tbody tr th {\n",
       "        vertical-align: top;\n",
       "    }\n",
       "\n",
       "    .dataframe thead th {\n",
       "        text-align: right;\n",
       "    }\n",
       "</style>\n",
       "<table border=\"1\" class=\"dataframe\">\n",
       "  <thead>\n",
       "    <tr style=\"text-align: right;\">\n",
       "      <th></th>\n",
       "      <th>product_ndc</th>\n",
       "      <th>API</th>\n",
       "      <th>Dosage_strength</th>\n",
       "      <th>Dosage_form</th>\n",
       "      <th>strength_num</th>\n",
       "      <th>Strength_unit</th>\n",
       "      <th>per_unit</th>\n",
       "      <th>strength_in_mg</th>\n",
       "      <th>unit_in_mg</th>\n",
       "      <th>strength_in_mg_per_1unit</th>\n",
       "      <th>is_tablet</th>\n",
       "      <th>pubChem</th>\n",
       "      <th>MP</th>\n",
       "      <th>LogP</th>\n",
       "      <th>MP_num_C</th>\n",
       "      <th>logP_num</th>\n",
       "    </tr>\n",
       "  </thead>\n",
       "  <tbody>\n",
       "    <tr>\n",
       "      <th>abacavir</th>\n",
       "      <td>65862-073</td>\n",
       "      <td>ABACAVIR SULFATE</td>\n",
       "      <td>300 mg/1</td>\n",
       "      <td>TABLET, FILM COATED</td>\n",
       "      <td>300.0</td>\n",
       "      <td>mg</td>\n",
       "      <td>1</td>\n",
       "      <td>300.0</td>\n",
       "      <td>1.0</td>\n",
       "      <td>300.0</td>\n",
       "      <td>True</td>\n",
       "      <td>[{'Number': [165], 'Unit': '°C'}, {'Number': [...</td>\n",
       "      <td>{'Number': [165], 'Unit': '°C'}</td>\n",
       "      <td>{'Number': [1.2]}</td>\n",
       "      <td>165.0</td>\n",
       "      <td>1.2</td>\n",
       "    </tr>\n",
       "    <tr>\n",
       "      <th>abacavir</th>\n",
       "      <td>49702-206</td>\n",
       "      <td>ABACAVIR SULFATE</td>\n",
       "      <td>600 mg/1</td>\n",
       "      <td>TABLET, FILM COATED</td>\n",
       "      <td>600.0</td>\n",
       "      <td>mg</td>\n",
       "      <td>1</td>\n",
       "      <td>600.0</td>\n",
       "      <td>1.0</td>\n",
       "      <td>600.0</td>\n",
       "      <td>True</td>\n",
       "      <td>[{'Number': [165], 'Unit': '°C'}, {'Number': [...</td>\n",
       "      <td>{'Number': [165], 'Unit': '°C'}</td>\n",
       "      <td>{'Number': [1.2]}</td>\n",
       "      <td>165.0</td>\n",
       "      <td>1.2</td>\n",
       "    </tr>\n",
       "    <tr>\n",
       "      <th>abacavir</th>\n",
       "      <td>49702-217</td>\n",
       "      <td>ABACAVIR SULFATE</td>\n",
       "      <td>300 mg/1</td>\n",
       "      <td>TABLET, FILM COATED</td>\n",
       "      <td>300.0</td>\n",
       "      <td>mg</td>\n",
       "      <td>1</td>\n",
       "      <td>300.0</td>\n",
       "      <td>1.0</td>\n",
       "      <td>300.0</td>\n",
       "      <td>True</td>\n",
       "      <td>[{'Number': [165], 'Unit': '°C'}, {'Number': [...</td>\n",
       "      <td>{'Number': [165], 'Unit': '°C'}</td>\n",
       "      <td>{'Number': [1.2]}</td>\n",
       "      <td>165.0</td>\n",
       "      <td>1.2</td>\n",
       "    </tr>\n",
       "  </tbody>\n",
       "</table>\n",
       "</div>"
      ],
      "text/plain": [
       "         product_ndc               API Dosage_strength          Dosage_form  \\\n",
       "abacavir   65862-073  ABACAVIR SULFATE        300 mg/1  TABLET, FILM COATED   \n",
       "abacavir   49702-206  ABACAVIR SULFATE        600 mg/1  TABLET, FILM COATED   \n",
       "abacavir   49702-217  ABACAVIR SULFATE        300 mg/1  TABLET, FILM COATED   \n",
       "\n",
       "          strength_num Strength_unit per_unit  strength_in_mg  unit_in_mg  \\\n",
       "abacavir         300.0            mg        1           300.0         1.0   \n",
       "abacavir         600.0            mg        1           600.0         1.0   \n",
       "abacavir         300.0            mg        1           300.0         1.0   \n",
       "\n",
       "          strength_in_mg_per_1unit  is_tablet  \\\n",
       "abacavir                     300.0       True   \n",
       "abacavir                     600.0       True   \n",
       "abacavir                     300.0       True   \n",
       "\n",
       "                                                    pubChem  \\\n",
       "abacavir  [{'Number': [165], 'Unit': '°C'}, {'Number': [...   \n",
       "abacavir  [{'Number': [165], 'Unit': '°C'}, {'Number': [...   \n",
       "abacavir  [{'Number': [165], 'Unit': '°C'}, {'Number': [...   \n",
       "\n",
       "                                       MP               LogP  MP_num_C  \\\n",
       "abacavir  {'Number': [165], 'Unit': '°C'}  {'Number': [1.2]}     165.0   \n",
       "abacavir  {'Number': [165], 'Unit': '°C'}  {'Number': [1.2]}     165.0   \n",
       "abacavir  {'Number': [165], 'Unit': '°C'}  {'Number': [1.2]}     165.0   \n",
       "\n",
       "          logP_num  \n",
       "abacavir       1.2  \n",
       "abacavir       1.2  \n",
       "abacavir       1.2  "
      ]
     },
     "execution_count": 151,
     "metadata": {},
     "output_type": "execute_result"
    }
   ],
   "source": [
    "result_found.head(3)"
   ]
  },
  {
   "cell_type": "code",
   "execution_count": 133,
   "metadata": {},
   "outputs": [],
   "source": [
    "result_found.to_csv('210922_mol_screening_v1.csv')"
   ]
  },
  {
   "cell_type": "code",
   "execution_count": 141,
   "metadata": {},
   "outputs": [],
   "source": [
    "x = finalData_df.MP.values\n",
    "notfound_mols = finalData_df['Molecule'].values[np.argwhere(x!=x).reshape(-1)]"
   ]
  },
  {
   "cell_type": "code",
   "execution_count": 142,
   "metadata": {},
   "outputs": [],
   "source": [
    "notfound_mols_set = set(list(notfound_mols))"
   ]
  },
  {
   "cell_type": "code",
   "execution_count": 143,
   "metadata": {},
   "outputs": [
    {
     "data": {
      "text/plain": [
       "165"
      ]
     },
     "execution_count": 143,
     "metadata": {},
     "output_type": "execute_result"
    }
   ],
   "source": [
    "len(notfound_mols)"
   ]
  },
  {
   "cell_type": "code",
   "execution_count": null,
   "metadata": {},
   "outputs": [],
   "source": []
  }
 ],
 "metadata": {
  "interpreter": {
   "hash": "2851cfdb96367296b6037059537977d6a7add6c53e75dd942bcaf9c3c2577153"
  },
  "kernelspec": {
   "display_name": "Python 3.8.11 64-bit ('base': conda)",
   "name": "python3"
  },
  "language_info": {
   "codemirror_mode": {
    "name": "ipython",
    "version": 3
   },
   "file_extension": ".py",
   "mimetype": "text/x-python",
   "name": "python",
   "nbconvert_exporter": "python",
   "pygments_lexer": "ipython3",
   "version": "3.8.11"
  },
  "orig_nbformat": 4
 },
 "nbformat": 4,
 "nbformat_minor": 2
}
